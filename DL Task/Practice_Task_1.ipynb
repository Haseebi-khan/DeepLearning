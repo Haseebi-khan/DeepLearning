{
  "cells": [
    {
      "cell_type": "markdown",
      "metadata": {
        "id": "8cON1cWb8GqS"
      },
      "source": [
        "## Coding Basic Practice\n",
        "\n",
        "\n",
        "> Add blockquote\n",
        "\n"
      ]
    },
    {
      "cell_type": "markdown",
      "metadata": {
        "id": "lI-pvyDs8GqT"
      },
      "source": [
        "Make two 1D arrays 'u' and 'v' consisting of 3 uniform random numbers between 0 and 2 each. (**1 mark**)"
      ]
    },
    {
      "cell_type": "code",
      "execution_count": null,
      "metadata": {
        "collapsed": true,
        "id": "2sZZleEq8GqT"
      },
      "outputs": [],
      "source": []
    },
    {
      "cell_type": "markdown",
      "metadata": {
        "id": "cSs1XzRZ8GqT"
      },
      "source": [
        "Compute the dot-product of 'u' and 'v'. (**1 mark**)"
      ]
    },
    {
      "cell_type": "code",
      "execution_count": null,
      "metadata": {
        "collapsed": true,
        "id": "2HVtgxZL8GqU"
      },
      "outputs": [],
      "source": []
    },
    {
      "cell_type": "markdown",
      "metadata": {
        "id": "c6r5ldXI8GqU"
      },
      "source": [
        "Compute the lengths of vectors 'u' and 'v'. Vector lenghts are also called *magnitudes* or *norms*. (**1 mark**)"
      ]
    },
    {
      "cell_type": "code",
      "execution_count": null,
      "metadata": {
        "collapsed": true,
        "id": "iEKahMk-8GqU"
      },
      "outputs": [],
      "source": []
    },
    {
      "cell_type": "markdown",
      "metadata": {
        "id": "lCt6HRSD8GqU"
      },
      "source": [
        "Find the angle between 'u' and 'v'. (**2 marks**)"
      ]
    },
    {
      "cell_type": "code",
      "execution_count": null,
      "metadata": {
        "collapsed": true,
        "id": "1Xa9op1R8GqU"
      },
      "outputs": [],
      "source": []
    },
    {
      "cell_type": "markdown",
      "metadata": {
        "id": "gqFHPUnq8GqU"
      },
      "source": [
        "Compute the tensor-product of 'u' and 'v'. (**1 mark**)"
      ]
    },
    {
      "cell_type": "code",
      "execution_count": null,
      "metadata": {
        "collapsed": true,
        "id": "5RurINbX8GqV"
      },
      "outputs": [],
      "source": []
    },
    {
      "cell_type": "markdown",
      "metadata": {
        "id": "3tMk5heD8GqV"
      },
      "source": [
        "Make a 2D array 'M' of size (2,3) containing uniform random numbers between 0 and 1. (**1 mark**)"
      ]
    },
    {
      "cell_type": "code",
      "execution_count": null,
      "metadata": {
        "collapsed": true,
        "id": "jm3GWUDB8GqV"
      },
      "outputs": [],
      "source": []
    },
    {
      "cell_type": "markdown",
      "metadata": {
        "id": "9ghnFDi28GqV"
      },
      "source": [
        "Compute the matrix-vector product of 'M' and 'u'. (**1 mark**)"
      ]
    },
    {
      "cell_type": "code",
      "execution_count": null,
      "metadata": {
        "collapsed": true,
        "id": "GdmLnNkO8GqV"
      },
      "outputs": [],
      "source": []
    },
    {
      "cell_type": "markdown",
      "metadata": {
        "id": "fxLg1lha8GqV"
      },
      "source": [
        "Make an array 'A' consisting of a (3,4) array, a (2,4) array and a (4,4) array. All 3 arrays should contain random integers less than 9. (**1 mark**)"
      ]
    },
    {
      "cell_type": "code",
      "execution_count": null,
      "metadata": {
        "collapsed": true,
        "id": "QlzIyoA48GqV"
      },
      "outputs": [],
      "source": []
    },
    {
      "cell_type": "markdown",
      "metadata": {
        "id": "Kjuu60yj8GqV"
      },
      "source": [
        "Pad the three arrays in 'A' to make a tensor array 'B'. Padding should be at the top with constant value of -1. (**3 marks**)"
      ]
    },
    {
      "cell_type": "code",
      "execution_count": null,
      "metadata": {
        "collapsed": true,
        "id": "AALLbBKj8GqV"
      },
      "outputs": [],
      "source": []
    },
    {
      "cell_type": "markdown",
      "metadata": {
        "id": "85e7POHf8GqV"
      },
      "source": [
        "Stack the arrays in 'A' vertically. (**1 mark**)"
      ]
    },
    {
      "cell_type": "code",
      "execution_count": 1,
      "metadata": {
        "collapsed": true,
        "id": "P7_ZhOPC8GqV",
        "colab": {
          "base_uri": "https://localhost:8080/",
          "height": 173
        },
        "outputId": "74dd7b19-0150-4c64-f8d1-1a292199536e"
      },
      "outputs": [
        {
          "output_type": "display_data",
          "data": {
            "text/plain": [
              "array([[8, 2, 5, 6],\n",
              "       [5, 6, 7, 7],\n",
              "       [6, 3, 8, 4],\n",
              "       [0, 4, 4, 7],\n",
              "       [6, 2, 3, 8],\n",
              "       [1, 6, 6, 8],\n",
              "       [5, 3, 6, 4],\n",
              "       [1, 7, 0, 2],\n",
              "       [5, 1, 1, 6]])"
            ]
          },
          "metadata": {}
        }
      ],
      "source": [
        "import numpy as np\n",
        "\n",
        "# Assuming 'A' is a list of arrays as created in a previous step\n",
        "# If 'A' has not been created yet, please run the previous cells first.\n",
        "# For demonstration purposes, let's create a sample 'A' if it doesn't exist:\n",
        "try:\n",
        "    A\n",
        "except NameError:\n",
        "    A = [np.random.randint(0, 9, size=(3, 4)),\n",
        "         np.random.randint(0, 9, size=(2, 4)),\n",
        "         np.random.randint(0, 9, size=(4, 4))]\n",
        "\n",
        "\n",
        "stacked_A = np.vstack(A)\n",
        "display(stacked_A)"
      ]
    },
    {
      "cell_type": "markdown",
      "metadata": {
        "id": "7fUqlcBB8GqV"
      },
      "source": [
        "Stack the arrays in 'B' horizontally using only 1 line of code containing a for loop. (**2 marks**)"
      ]
    },
    {
      "cell_type": "code",
      "execution_count": null,
      "metadata": {
        "collapsed": true,
        "id": "WIZyuCcG8GqW"
      },
      "outputs": [],
      "source": []
    }
  ],
  "metadata": {
    "kernelspec": {
      "display_name": "Python 3",
      "language": "python",
      "name": "python3"
    },
    "language_info": {
      "codemirror_mode": {
        "name": "ipython",
        "version": 3
      },
      "file_extension": ".py",
      "mimetype": "text/x-python",
      "name": "python",
      "nbconvert_exporter": "python",
      "pygments_lexer": "ipython3",
      "version": "3.6.9"
    },
    "colab": {
      "provenance": []
    }
  },
  "nbformat": 4,
  "nbformat_minor": 0
}